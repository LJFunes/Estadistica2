{
 "cells": [
  {
   "cell_type": "markdown",
   "metadata": {},
   "source": [
    "### Utilizando Python cálcular las siguientes probabilidades. Para cada uno intenta determinar que método aplicaste."
   ]
  },
  {
   "cell_type": "markdown",
   "metadata": {},
   "source": [
    "1. Lanza una moneda al aire 10 veces, ¿cuantos resultados posibles forman parte del espacio muestral?."
   ]
  },
  {
   "cell_type": "code",
   "execution_count": null,
   "metadata": {},
   "outputs": [],
   "source": [
    "import random"
   ]
  },
  {
   "cell_type": "code",
   "execution_count": 7,
   "metadata": {},
   "outputs": [
    {
     "name": "stdout",
     "output_type": "stream",
     "text": [
      "['cara', 'cara', 'cara', 'cruz', 'cruz', 'cruz', 'cara', 'cara', 'cruz', 'cruz']\n"
     ]
    }
   ],
   "source": [
    "resultados = []\n",
    "for n in range(10):\n",
    "    if random.randint(1, 2) == 1:\n",
    "        resultados.append(\"cara\")\n",
    "    else: resultados.append(\"cruz\")\n",
    "print(resultados)"
   ]
  },
  {
   "cell_type": "code",
   "execution_count": 10,
   "metadata": {},
   "outputs": [
    {
     "name": "stdout",
     "output_type": "stream",
     "text": [
      "El espacio muestral es de 1024 posibles resultados\n"
     ]
    }
   ],
   "source": [
    "res_posic = 2 # 2 resultados posibles en 1 lanzamiento: cara o cruz\n",
    "tot_ex = 10 # total de experimentos: 10 lanzamientos\n",
    "esp_m = res_posic ** tot_ex\n",
    "print(\"El espacio muestral es de\", esp_m, \"posibles resultados\")"
   ]
  },
  {
   "cell_type": "code",
   "execution_count": 8,
   "metadata": {},
   "outputs": [
    {
     "name": "stdout",
     "output_type": "stream",
     "text": [
      "Resultados posibles que forman el espacio muestral = 1024\n"
     ]
    }
   ],
   "source": [
    "espacio_muestral = 1\n",
    "for n in range(10):\n",
    "    espacio_muestral *= 2\n",
    "print(\"Resultados posibles que forman el espacio muestral =\",espacio_muestral)"
   ]
  },
  {
   "cell_type": "markdown",
   "metadata": {},
   "source": [
    "2. En un aeropuerto se tiene a 10 pasajeros esperando en la sala de preembarque, la polícia debe controlar a 3 de ellos. ¿Cuantas combinaciones posibles se pueden obtener?."
   ]
  },
  {
   "cell_type": "code",
   "execution_count": null,
   "metadata": {},
   "outputs": [],
   "source": [
    "for m in range(8):\n",
    "    n += (n-1)"
   ]
  },
  {
   "cell_type": "markdown",
   "metadata": {},
   "source": [
    "3. La Agencia Nacional de Seguridad Vial realizó una investigación para saber si los conductores de están usando sus cinturones de seguridad. Los datos muestrales fueron los siguientes:<br>\n",
    "Conductores que emplean el cinturón <br>\n",
    "\n",
    "![Ejercicio](../_src/assets/ejercicio3.PNG)\n",
    "\n",
    "\n",
    "- a) ¿Qué metodo cree que se utilizo para asignar probabilidades?.\n",
    "- b) Construya un cuadro similar, pero con la asignación de probabilidades.\n",
    "- c) ¿Cuál sería el mejor método pára estimar la probabilidad de que en Estados Unidos un conductor lleve puesto el cinturón?.\n",
    "- d) Un año antes, la probabilidad en Argentina de que un conductor llevara puesto el cinturón era 0.75. El director de ANSV, se esperaba que la probabilidad llegara a 0.78. ¿Estará satisfecho con los resultados del estudio? (Utilizar tabla adjunta)\n",
    "- e) ¿Cuál es la probabilidad de que se use el cinturón en las distintas regiones del país? ¿En qué región se usa más el cinturón?(Utilizar misma tabla que el ejercicio anterior).\n"
   ]
  },
  {
   "cell_type": "code",
   "execution_count": null,
   "metadata": {},
   "outputs": [],
   "source": []
  },
  {
   "cell_type": "markdown",
   "metadata": {},
   "source": [
    "4. Crear una funcion que permita calcular a probabilidad de los siguientes eventos en un baraja de 52 cartas.<br>\n",
    "- Obtener una carta roja.<br>\n",
    "- Obtener una carta negra.<br>\n",
    "- Obtener una pica.<br>\n",
    "- Obtener un trébol.<br>\n",
    "- Obtener un corazón.<br>\n",
    "- Obtener un diamante.<br>"
   ]
  },
  {
   "cell_type": "code",
   "execution_count": null,
   "metadata": {},
   "outputs": [],
   "source": []
  },
  {
   "cell_type": "markdown",
   "metadata": {},
   "source": [
    "5. La probabilidad de que salga un 7 o un 8 al seleccionar una carta de una baraja de las 52 cartas que contiene el mazo. <br>"
   ]
  },
  {
   "cell_type": "code",
   "execution_count": null,
   "metadata": {},
   "outputs": [],
   "source": []
  },
  {
   "cell_type": "markdown",
   "metadata": {},
   "source": [
    "6. La probabilidad de tu país gane el mundial de fútbol.<br>"
   ]
  },
  {
   "cell_type": "code",
   "execution_count": null,
   "metadata": {},
   "outputs": [],
   "source": []
  },
  {
   "cell_type": "markdown",
   "metadata": {},
   "source": [
    "7. Un experimento que tiene tres resultados es repetido 50 veces y se ve que E1 aparece 20 veces, E2 13 veces y E3 17 veces. Asigne probabilidades a los resultados.<br>"
   ]
  },
  {
   "cell_type": "code",
   "execution_count": null,
   "metadata": {},
   "outputs": [],
   "source": []
  },
  {
   "cell_type": "markdown",
   "metadata": {},
   "source": [
    "## Desafíos complementarios \n",
    "\n",
    "### Investiga e intenta resolver los siguientes ejercicios\n",
    "\n",
    "1. Si la probabilidad de que un cliente pague en efectivo (E) es 6/15, con tarjeta de crédito (TD) es 7/15 y con tarjeta de débito (TD) es 2/15. Hallar la probabilidad de que dos clientes sucesivos que pagan sus cuentas lo hagan:<br>\n",
    " a) el primero en efectivo y el segundo con tarjeta de crédito.<br>\n",
    " b) Los dos clientes en efectivo<br>\n",
    "2. La probabilidad de que un Henry repruebe el M1 de 0.8, de que apruebe M2 es 0.5 y de que repruebe el M3 es de 0.4.<br>\n",
    " (Los eventos no interfieren entre si) <br>\n",
    "\n",
    "![Tabla](../_src/assets/probhenry.PNG)\n",
    "\n",
    "Determinar la probabilidad de que:<br>\n",
    " a) Apruebe un módulo.<br>\n",
    " b) Repruebe las tres materias."
   ]
  }
 ],
 "metadata": {
  "kernelspec": {
   "display_name": "Python 3",
   "language": "python",
   "name": "python3"
  },
  "language_info": {
   "codemirror_mode": {
    "name": "ipython",
    "version": 3
   },
   "file_extension": ".py",
   "mimetype": "text/x-python",
   "name": "python",
   "nbconvert_exporter": "python",
   "pygments_lexer": "ipython3",
   "version": "3.11.5"
  }
 },
 "nbformat": 4,
 "nbformat_minor": 2
}
